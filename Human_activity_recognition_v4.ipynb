{
 "cells": [
  {
   "cell_type": "markdown",
   "metadata": {},
   "source": [
    "## Human Activity Recognition from accelerometer data\n",
    "\n",
    "Note: Attempting to use Deep Neural Net architecture"
   ]
  },
  {
   "cell_type": "code",
   "execution_count": 1,
   "metadata": {},
   "outputs": [],
   "source": [
    "import pandas as pd\n",
    "import numpy as np\n",
    "import matplotlib.pyplot as plt\n",
    "%matplotlib inline\n",
    "import os"
   ]
  },
  {
   "cell_type": "code",
   "execution_count": 2,
   "metadata": {},
   "outputs": [],
   "source": [
    "datafolder='Activity_Recognition_from Single_Chest-Mounted_Accelerometer/'\n",
    "person={}\n",
    "for i in range(15):\n",
    "    person[i+1]= pd.read_csv(datafolder+str(i+1)+'.csv',index_col=0,names=['seq num', 'ax', 'ay', 'az', 'label']) "
   ]
  },
  {
   "cell_type": "code",
   "execution_count": 3,
   "metadata": {},
   "outputs": [
    {
     "name": "stdout",
     "output_type": "stream",
     "text": [
      "1 shape: (162501, 4)\n",
      "2 shape: (138001, 4)\n",
      "3 shape: (102341, 4)\n",
      "4 shape: (122201, 4)\n",
      "5 shape: (160001, 4)\n",
      "6 shape: (140901, 4)\n",
      "7 shape: (163001, 4)\n",
      "8 shape: (138001, 4)\n",
      "9 shape: (166741, 4)\n",
      "10 shape: (126801, 4)\n",
      "11 shape: (104451, 4)\n",
      "12 shape: (114702, 4)\n",
      "13 shape: (67651, 4)\n",
      "14 shape: (116101, 4)\n",
      "15 shape: (103501, 4)\n"
     ]
    }
   ],
   "source": [
    "for i in person: print(i,'shape:',person[i].shape)#,'columns:',person[i].columns)"
   ]
  },
  {
   "cell_type": "code",
   "execution_count": 4,
   "metadata": {},
   "outputs": [],
   "source": [
    "class_dict={}\n",
    "class_dict[1]='Working at Computer'\n",
    "class_dict[2]='Standing Up, Walking and Going Up/Down stairs' \n",
    "class_dict[3]='Standing'\n",
    "class_dict[4]='Walking'\n",
    "class_dict[5]='Going Up/Down Stairs'\n",
    "class_dict[6]='Walking and Talking with Someone'\n",
    "class_dict[7]='Talking while Standing'"
   ]
  },
  {
   "cell_type": "code",
   "execution_count": 5,
   "metadata": {},
   "outputs": [],
   "source": [
    "#person[1].head()"
   ]
  },
  {
   "cell_type": "code",
   "execution_count": 6,
   "metadata": {},
   "outputs": [],
   "source": [
    "#after 100000 the time step does not increment by 1?\n",
    "#person[1].iloc[99997:100003]"
   ]
  },
  {
   "cell_type": "code",
   "execution_count": 7,
   "metadata": {},
   "outputs": [],
   "source": [
    "#there are entries with invalid class=0\n",
    "#person[2][person[2]['label']==0].head()"
   ]
  },
  {
   "cell_type": "code",
   "execution_count": 8,
   "metadata": {},
   "outputs": [],
   "source": [
    "def plot_data(folder='raw',save=False):\n",
    "    os.system('mkdir -p plots/'+folder)\n",
    "    for i in person:\n",
    "\n",
    "        fig, ax = plt.subplots(4,1, figsize=(6.4*1.5,4.8*1.5),sharex='col') \n",
    "\n",
    "        ax[0].plot(person[i]['ax'])\n",
    "        ax[0].set_ylabel('ax')\n",
    "\n",
    "        ax[1].plot(person[i]['ay'])\n",
    "        ax[1].set_ylabel('ay')\n",
    "\n",
    "        ax[2].plot(person[i]['az'])\n",
    "        ax[2].set_ylabel('az')\n",
    "\n",
    "        ax[3].plot(person[i]['label'])\n",
    "        ax[3].set_ylabel('label')\n",
    "\n",
    "        fig.suptitle('person '+str(i))\n",
    "\n",
    "        if(save):fig.savefig('plots/'+folder+'/'+'person'+str(i))\n",
    "        \n",
    "        \n",
    "def normalize_data(dataset):\n",
    "    dataset = dataset - dataset.mean()\n",
    "    dataset = dataset/dataset.std()\n",
    "    return dataset\n",
    "\n",
    "\n",
    "def get_data_per_class_per_person():\n",
    "    #separate data into classes \n",
    "    #act := act[class type][person number]\n",
    "    act = {}\n",
    "    for i in range(1,8):\n",
    "        act[i] = {}\n",
    "        for j in person:\n",
    "            act[i][j] = person[j][person[j]['label']==i]\n",
    "\n",
    "    return act\n",
    "\n",
    "\n",
    "def plot_per_class_per_person(act,save=False):\n",
    "    folder = 'separate_class'\n",
    "    os.system('mkdir -pv plots/'+folder)\n",
    "    for c in range(1,8):\n",
    "\n",
    "        for i in person:\n",
    "\n",
    "            fig, ax = plt.subplots(3,1, figsize=(6.4*2,4.8*1.5),sharex='col') \n",
    "\n",
    "            ax[0].plot(act[c][i]['ax'],'.')\n",
    "            ax[0].set_ylabel('ax')\n",
    "\n",
    "            ax[1].plot(act[c][i]['ay'],'.')\n",
    "            ax[1].set_ylabel('ay')\n",
    "\n",
    "            ax[2].plot(act[c][i]['az'],'.')\n",
    "            ax[2].set_ylabel('az')\n",
    "\n",
    "            fig.suptitle('person '+str(i)+': '+class_dict[c])\n",
    "\n",
    "            if(save):fig.savefig('plots/'+folder+'/'+'act_'+str(c)+'_person '+str(i))\n",
    "\n",
    "            if i > 3:\n",
    "                fig.clf()\n",
    "\n",
    "\n",
    "# Remove entries with label=0\n",
    "def remove_0_labels():\n",
    "    for i in person:\n",
    "        index_to_drop = person[i][person[i]['label']==0].index\n",
    "        person[i] = person[i].drop(index_to_drop)\n",
    "\n",
    "        \n",
    "# normalize data\n",
    "def normalize_all_data():\n",
    "    for i in person: \n",
    "        for col in ['ax','ay','az']:\n",
    "            person[i][col] = normalize_data(person[i][col])"
   ]
  },
  {
   "cell_type": "code",
   "execution_count": 9,
   "metadata": {},
   "outputs": [],
   "source": [
    "###FEATURE ENGINEERING\n",
    "\n",
    "def add_features(window=52 * 3):\n",
    "\n",
    "    print('using window of',window)\n",
    "\n",
    "    #Add rolling mean\n",
    "    for i in person:\n",
    "        for col in ['ax','ay','az']:\n",
    "            person[i][col+'_MA'+str(window)] = person[i][col].rolling(window).mean()\n",
    "\n",
    "    #Add rolling std\n",
    "    for i in person:\n",
    "        for col in ['ax','ay','az']:\n",
    "            person[i][col+'_stdA'+str(window)] = person[i][col].rolling(window).std()\n",
    "\n",
    "    #Add rolling sum\n",
    "    for i in person:\n",
    "        for col in ['ax','ay','az']:\n",
    "            person[i][col+'_sumA'+str(window)] = person[i][col].rolling(window).sum()\n",
    "\n",
    "    #Add rolling max\n",
    "    for i in person:\n",
    "        for col in ['ax','ay','az']:\n",
    "            person[i][col+'_maxA'+str(window)] = person[i][col].rolling(window).max()\n",
    "\n",
    "    #Add rolling min\n",
    "    for i in person:\n",
    "        for col in ['ax','ay','az']:\n",
    "            person[i][col+'_minA'+str(window)] = person[i][col].rolling(window).min()\n",
    "\n",
    "    #Add rolling median\n",
    "    for i in person:\n",
    "        for col in ['ax','ay','az']:\n",
    "            person[i][col+'_medA'+str(window)] = person[i][col].rolling(window).median()\n",
    "\n",
    "    #Add rolling covariance\n",
    "    for i in person:\n",
    "        for col in ['ax','ay','az']:\n",
    "            person[i][col+'_covA'+str(window)] = person[i][col].rolling(window).cov()\n",
    "\n",
    "    #Add rolling kurtosis\n",
    "    for i in person:\n",
    "        for col in ['ax','ay','az']:\n",
    "            person[i][col+'_kurtA'+str(window)] = person[i][col].rolling(window).kurt()\n",
    "\n",
    "    #Add rolling skew\n",
    "    for i in person:\n",
    "        for col in ['ax','ay','az']:\n",
    "            person[i][col+'_skewA'+str(window)] = person[i][col].rolling(window).skew()    \n",
    "\n",
    "    #Add magnitude of total acc vector sqrt(ax^2+ay^2+az^2)\n",
    "    for i in person:\n",
    "        person[i]['mag_a'] = np.sqrt (person[i]['ax']**2 + person[i]['ay']**2 + person[i]['az']**2)\n",
    "\n",
    "    #Add rolling mean of magnitude of total acc \n",
    "    for i in person:\n",
    "        person[i]['mag_a_MA'] = person[i]['mag_a'].rolling(window).mean()\n",
    "\n",
    "    #Add rolling sum of magnitude of total acc \n",
    "    for i in person:\n",
    "        person[i]['mag_a_MA'] = person[i]['mag_a'].rolling(window).sum()\n",
    "\n",
    "    #Add rolling std of magnitude of total acc \n",
    "    for i in person:\n",
    "        person[i]['mag_a_MA'] = person[i]['mag_a'].rolling(window).std()\n",
    "\n",
    "    #Add angle\n",
    "    for i in person:\n",
    "        for col in ['ax','ay','az']:\n",
    "            person[i]['phi_'+col] = np.arccos( person[i][col] / person[i]['mag_a'] )   \n",
    "\n",
    "    #Add difference between time steps \n",
    "    for i in person:\n",
    "        for col in ['ax','ay','az']:\n",
    "            person[i][col+'_diff'] = person[i][col].diff()\n",
    "\n",
    "    #Add rolling mean of difference between time steps \n",
    "    for i in person:\n",
    "        for col in ['ax','ay','az']:\n",
    "            person[i][col+'_diff_MA'] = person[i][col+'_diff'].rolling(window).mean()\n",
    "\n"
   ]
  },
  {
   "cell_type": "code",
   "execution_count": 10,
   "metadata": {},
   "outputs": [],
   "source": [
    "# preprocess dataset for Time series Neural Net architecture\n",
    "\n",
    "def get_loop_param(dataset):\n",
    "    window=52*3\n",
    "    overlap=0.5\n",
    "    length=dataset.shape[0]\n",
    "    stride=int(window*overlap)\n",
    "    num_loop=int(length / stride)\n",
    "    skip= int(length % stride)\n",
    "    print('len =',length,'num_loop =',num_loop,'window =',window,'stride =',stride,'skip =',skip,'check =', num_loop*stride + skip)\n",
    "    \n",
    "    return num_loop,window,stride,skip\n",
    "\n",
    "def preprocess_into_3d_np(dataset):\n",
    "\n",
    "    num_loop,window,stride,skip = get_loop_param(dataset)\n",
    "\n",
    "    X = np.empty([num_loop,window,dataset.shape[1]-1])\n",
    "    Y = np.empty([num_loop,1])\n",
    "    \n",
    "    datasetX = dataset.drop(columns=['label'])\n",
    "    datasetY = dataset['label']\n",
    "\n",
    "    for i in range(num_loop):\n",
    "        for j in range(window):\n",
    "\n",
    "            window_iloc = i*stride + j \n",
    "            if (i%250==0 and j==0): print(i,j,window_iloc)\n",
    "            try:\n",
    "                X[i][j] = datasetX.iloc[window_iloc].values\n",
    "            except Exception as e:\n",
    "                print('finished, or error occured:',e)\n",
    "                break\n",
    "\n",
    "        # get most frequent value of label in the window\n",
    "        Y[i] = datasetY.iloc[i*stride : i*stride + window].value_counts().idxmax() \n",
    "\n",
    "    return X,Y"
   ]
  },
  {
   "cell_type": "code",
   "execution_count": 11,
   "metadata": {},
   "outputs": [],
   "source": [
    "def save_preprocess_3d_np(person,save_folder):\n",
    "\n",
    "    X_person={}\n",
    "    Y_person={}\n",
    "\n",
    "    os.system('mkdir -vp '+save_folder)\n",
    "    for p in person:\n",
    "        print('\\nPerson',p,'\\n')\n",
    "        X_person[p],Y_person[p] = preprocess_into_3d_np(person[p])\n",
    "        np.save(save_folder+'/X_person_{}'.format(p),X_person[p])\n",
    "        np.save(save_folder+'/Y_person_{}'.format(p),Y_person[p])  \n",
    "\n",
    "def get_preprocess_3d_np(save_folder):\n",
    "    X_person={}\n",
    "    Y_person={}\n",
    "\n",
    "    print(\"\\nLoad from folder:\",save_folder,'\\n')\n",
    "    for p in person:\n",
    "        X_person[p]=np.load(save_folder+'/X_person_{}.npy'.format(p))\n",
    "        Y_person[p]=np.load(save_folder+'/Y_person_{}.npy'.format(p))  \n",
    "        print('\\tLoading Person',p,':',X_person[p].shape,Y_person[p].shape,'\\n')\n",
    "\n",
    "    return X_person,Y_person"
   ]
  },
  {
   "cell_type": "code",
   "execution_count": 12,
   "metadata": {},
   "outputs": [],
   "source": [
    "#clean up NaN\n",
    "def fillna_with_zeros():\n",
    "    for p in person:\n",
    "        person[p].fillna(0)"
   ]
  },
  {
   "cell_type": "code",
   "execution_count": 13,
   "metadata": {},
   "outputs": [],
   "source": [
    "#probably need some filtering\n",
    "def lowpassfilter(dataset):\n",
    "    pass"
   ]
  },
  {
   "cell_type": "code",
   "execution_count": 14,
   "metadata": {},
   "outputs": [
    {
     "data": {
      "text/plain": [
       "[<matplotlib.lines.Line2D at 0x11964d390>]"
      ]
     },
     "execution_count": 14,
     "metadata": {},
     "output_type": "execute_result"
    },
    {
     "data": {
      "image/png": "[encoded data removed]",
      "text/plain": [
       "<Figure size 432x288 with 4 Axes>"
      ]
     },
     "metadata": {
      "needs_background": "light"
     },
     "output_type": "display_data"
    },
    {
     "data": {
      "image/png": "[encoded data removed]",
      "text/plain": [
       "<Figure size 432x288 with 2 Axes>"
      ]
     },
     "metadata": {
      "needs_background": "light"
     },
     "output_type": "display_data"
    }
   ],
   "source": [
    "# plot_data('raw')\n",
    "fig,ax = person[3].hist(bins=50)\n",
    "fig2,ax2 = plt.subplots(2,1)\n",
    "ax2[0].plot(person[3].drop(columns='label'))\n",
    "ax2[1].plot(person[3]['label'])"
   ]
  },
  {
   "cell_type": "code",
   "execution_count": null,
   "metadata": {},
   "outputs": [],
   "source": []
  },
  {
   "cell_type": "code",
   "execution_count": 15,
   "metadata": {},
   "outputs": [],
   "source": [
    "remove_0_labels()\n",
    "normalize_all_data()"
   ]
  },
  {
   "cell_type": "code",
   "execution_count": 16,
   "metadata": {},
   "outputs": [
    {
     "data": {
      "text/plain": [
       "<matplotlib.axes._subplots.AxesSubplot at 0x11a1d7ba8>"
      ]
     },
     "execution_count": 16,
     "metadata": {},
     "output_type": "execute_result"
    },
    {
     "data": {
      "image/png": "[encoded data removed]",
      "text/plain": [
       "<Figure size 432x288 with 4 Axes>"
      ]
     },
     "metadata": {
      "needs_background": "light"
     },
     "output_type": "display_data"
    },
    {
     "data": {
      "image/png": "[encoded data removed]",
      "text/plain": [
       "<Figure size 432x288 with 1 Axes>"
      ]
     },
     "metadata": {
      "needs_background": "light"
     },
     "output_type": "display_data"
    }
   ],
   "source": [
    "# plot_data('normalized')\n",
    "person[3].hist(bins=100)\n",
    "person[3].plot()"
   ]
  },
  {
   "cell_type": "code",
   "execution_count": 17,
   "metadata": {},
   "outputs": [],
   "source": [
    "# act = get_data_per_class_per_person()\n",
    "# plot_per_class_per_person(act)"
   ]
  },
  {
   "cell_type": "code",
   "execution_count": 18,
   "metadata": {},
   "outputs": [
    {
     "data": {
      "text/html": [
       "<div>\n",
       "<style scoped>\n",
       "    .dataframe tbody tr th:only-of-type {\n",
       "        vertical-align: middle;\n",
       "    }\n",
       "\n",
       "    .dataframe tbody tr th {\n",
       "        vertical-align: top;\n",
       "    }\n",
       "\n",
       "    .dataframe thead th {\n",
       "        text-align: right;\n",
       "    }\n",
       "</style>\n",
       "<table border=\"1\" class=\"dataframe\">\n",
       "  <thead>\n",
       "    <tr style=\"text-align: right;\">\n",
       "      <th></th>\n",
       "      <th>ax</th>\n",
       "      <th>ay</th>\n",
       "      <th>az</th>\n",
       "      <th>label</th>\n",
       "    </tr>\n",
       "    <tr>\n",
       "      <th>seq num</th>\n",
       "      <th></th>\n",
       "      <th></th>\n",
       "      <th></th>\n",
       "      <th></th>\n",
       "    </tr>\n",
       "  </thead>\n",
       "  <tbody>\n",
       "    <tr>\n",
       "      <th>0.0</th>\n",
       "      <td>-0.100870</td>\n",
       "      <td>0.314815</td>\n",
       "      <td>0.566221</td>\n",
       "      <td>1</td>\n",
       "    </tr>\n",
       "    <tr>\n",
       "      <th>1.0</th>\n",
       "      <td>-0.279598</td>\n",
       "      <td>0.176180</td>\n",
       "      <td>0.584243</td>\n",
       "      <td>1</td>\n",
       "    </tr>\n",
       "    <tr>\n",
       "      <th>2.0</th>\n",
       "      <td>-0.301938</td>\n",
       "      <td>0.156375</td>\n",
       "      <td>0.548200</td>\n",
       "      <td>1</td>\n",
       "    </tr>\n",
       "    <tr>\n",
       "      <th>3.0</th>\n",
       "      <td>-0.212575</td>\n",
       "      <td>0.314815</td>\n",
       "      <td>0.674352</td>\n",
       "      <td>1</td>\n",
       "    </tr>\n",
       "    <tr>\n",
       "      <th>4.0</th>\n",
       "      <td>-0.257257</td>\n",
       "      <td>0.156375</td>\n",
       "      <td>0.674352</td>\n",
       "      <td>1</td>\n",
       "    </tr>\n",
       "  </tbody>\n",
       "</table>\n",
       "</div>"
      ],
      "text/plain": [
       "               ax        ay        az  label\n",
       "seq num                                     \n",
       "0.0     -0.100870  0.314815  0.566221      1\n",
       "1.0     -0.279598  0.176180  0.584243      1\n",
       "2.0     -0.301938  0.156375  0.548200      1\n",
       "3.0     -0.212575  0.314815  0.674352      1\n",
       "4.0     -0.257257  0.156375  0.674352      1"
      ]
     },
     "execution_count": 18,
     "metadata": {},
     "output_type": "execute_result"
    }
   ],
   "source": [
    "person[3].head()"
   ]
  },
  {
   "cell_type": "code",
   "execution_count": 19,
   "metadata": {},
   "outputs": [],
   "source": [
    "# save_preprocess_3d_np(person,'data_norm_3d_np')\n",
    "# add_features()\n",
    "# fillna_with_zeros() \n",
    "# save_preprocess_3d_np(person,'data_norm_3d_np_withFeatures')"
   ]
  },
  {
   "cell_type": "code",
   "execution_count": 51,
   "metadata": {},
   "outputs": [
    {
     "name": "stdout",
     "output_type": "stream",
     "text": [
      "\n",
      "Load from folder: data_norm_3d_np \n",
      "\n",
      "\tLoading Person 1 : (2083, 156, 3) (2083, 1) \n",
      "\n",
      "\tLoading Person 2 : (1765, 156, 3) (1765, 1) \n",
      "\n",
      "\tLoading Person 3 : (1311, 156, 3) (1311, 1) \n",
      "\n",
      "\tLoading Person 4 : (1566, 156, 3) (1566, 1) \n",
      "\n",
      "\tLoading Person 5 : (2051, 156, 3) (2051, 1) \n",
      "\n",
      "\tLoading Person 6 : (1803, 156, 3) (1803, 1) \n",
      "\n",
      "\tLoading Person 7 : (2089, 156, 3) (2089, 1) \n",
      "\n",
      "\tLoading Person 8 : (1766, 156, 3) (1766, 1) \n",
      "\n",
      "\tLoading Person 9 : (2099, 156, 3) (2099, 1) \n",
      "\n",
      "\tLoading Person 10 : (1625, 156, 3) (1625, 1) \n",
      "\n",
      "\tLoading Person 11 : (1339, 156, 3) (1339, 1) \n",
      "\n",
      "\tLoading Person 12 : (1470, 156, 3) (1470, 1) \n",
      "\n",
      "\tLoading Person 13 : (867, 156, 3) (867, 1) \n",
      "\n",
      "\tLoading Person 14 : (1488, 156, 3) (1488, 1) \n",
      "\n",
      "\tLoading Person 15 : (1326, 156, 3) (1326, 1) \n",
      "\n",
      "\n",
      "Load from folder: data_norm_3d_np_withFeatures \n",
      "\n",
      "\tLoading Person 1 : (2083, 156, 41) (2083, 1) \n",
      "\n",
      "\tLoading Person 2 : (1765, 156, 41) (1765, 1) \n",
      "\n",
      "\tLoading Person 3 : (1311, 156, 41) (1311, 1) \n",
      "\n",
      "\tLoading Person 4 : (1566, 156, 41) (1566, 1) \n",
      "\n",
      "\tLoading Person 5 : (2051, 156, 41) (2051, 1) \n",
      "\n",
      "\tLoading Person 6 : (1803, 156, 41) (1803, 1) \n",
      "\n",
      "\tLoading Person 7 : (2089, 156, 41) (2089, 1) \n",
      "\n",
      "\tLoading Person 8 : (1766, 156, 41) (1766, 1) \n",
      "\n",
      "\tLoading Person 9 : (2099, 156, 41) (2099, 1) \n",
      "\n",
      "\tLoading Person 10 : (1625, 156, 41) (1625, 1) \n",
      "\n",
      "\tLoading Person 11 : (1339, 156, 41) (1339, 1) \n",
      "\n",
      "\tLoading Person 12 : (1470, 156, 41) (1470, 1) \n",
      "\n",
      "\tLoading Person 13 : (867, 156, 41) (867, 1) \n",
      "\n",
      "\tLoading Person 14 : (1488, 156, 41) (1488, 1) \n",
      "\n",
      "\tLoading Person 15 : (1326, 156, 41) (1326, 1) \n",
      "\n"
     ]
    }
   ],
   "source": [
    "X_person, Y_person = get_preprocess_3d_np('data_norm_3d_np')\n",
    "X_ext_person, Y_ext_person = get_preprocess_3d_np('data_norm_3d_np_withFeatures')"
   ]
  },
  {
   "cell_type": "code",
   "execution_count": 52,
   "metadata": {},
   "outputs": [],
   "source": [
    "from keras.models import Sequential\n",
    "from keras.layers import Dense\n",
    "from keras.layers import Flatten\n",
    "from keras.layers import Dropout\n",
    "from keras.layers import LSTM\n",
    "from keras.layers.convolutional import Conv1D\n",
    "from keras.layers.convolutional import MaxPooling1D\n",
    "from keras.utils import to_categorical\n",
    "\n",
    "\n",
    "#OMP: Error #15: Initializing libiomp5.dylib, but found libomp.dylib already initialized.\n",
    "#http://support.genarts.com/knowledgebase/article/View/1365/339/why-am-i-getting-this-error-omp-error-15-initializing-libiomp5so-but-found-libguideso-already-initialized\n",
    "#https://stackoverflow.com/questions/53014306/error-15-initializing-libiomp5-dylib-but-found-libiomp5-dylib-already-initial\n",
    "import os\n",
    "os.environ['KMP_DUPLICATE_LIB_OK']='True'"
   ]
  },
  {
   "cell_type": "code",
   "execution_count": 57,
   "metadata": {},
   "outputs": [
    {
     "name": "stdout",
     "output_type": "stream",
     "text": [
      "(18158, 156, 3) (18158, 1)\n",
      "(2809, 156, 3) (2809, 1)\n",
      "(3681, 156, 3) (3681, 1)\n"
     ]
    }
   ],
   "source": [
    "# X_person = X_ext_person\n",
    "# Y_person = Y_ext_person\n",
    "\n",
    "#train test \"split\"\n",
    "trainX = X_person[1]\n",
    "trainy = Y_person[1]\n",
    "for i in [2,3,4,5,6,7,8,9,10]:\n",
    "    trainX = np.concatenate((trainX,X_person[i]))\n",
    "    trainy =np.concatenate((trainy,Y_person[i]))\n",
    "print(trainX.shape,trainy.shape)\n",
    "\n",
    "valX = X_person[11]\n",
    "valX = np.concatenate((valX,X_person[12]))\n",
    "valy = Y_person[11]\n",
    "valy = np.concatenate((valy,Y_person[12]))\n",
    "print(valX.shape,valy.shape)\n",
    "\n",
    "#train test \"split\"\n",
    "testX = X_person[13]\n",
    "testy = Y_person[13]\n",
    "for i in [14,15]:\n",
    "    testX = np.concatenate((testX,X_person[i]))\n",
    "    testy =np.concatenate((testy,Y_person[i]))\n",
    "print(testX.shape,testy.shape)\n",
    "\n",
    "\n",
    "# zero-offset class values\n",
    "trainy = trainy - 1\n",
    "valy = valy - 1\n",
    "testy = testy - 1\n",
    "\n",
    "# one hot encode y\n",
    "trainy = to_categorical(trainy,dtype='int')\n",
    "valy = to_categorical(valy,dtype='int')\n",
    "testy = to_categorical(testy,dtype='int')\n"
   ]
  },
  {
   "cell_type": "code",
   "execution_count": 58,
   "metadata": {},
   "outputs": [],
   "source": [
    "# summarize scores\n",
    "def summarize_results(scores):\n",
    "    print(scores)\n",
    "    m, s = np.mean(scores), np.std(scores)\n",
    "    print('Accuracy: %.3f%% (+/-%.3f)' % (m, s))\n",
    "\n",
    "# fit and evaluate a model\n",
    "def evaluate_model_cnn(trainX, trainy, testX, testy):\n",
    "    verbose, epochs, batch_size = 1, 10, 32\n",
    "    n_timesteps, n_features, n_outputs = trainX.shape[1], trainX.shape[2], trainy.shape[1]\n",
    "    model = Sequential()\n",
    "    model.add(Conv1D(filters=64, kernel_size=3, activation='relu', input_shape=(n_timesteps,n_features)))\n",
    "    model.add(Conv1D(filters=64, kernel_size=3, activation='relu'))\n",
    "    model.add(Dropout(0.5))\n",
    "    model.add(MaxPooling1D(pool_size=2))\n",
    "    model.add(Flatten())\n",
    "    model.add(Dense(100, activation='relu'))\n",
    "    model.add(Dense(n_outputs, activation='softmax'))\n",
    "    model.compile(loss='categorical_crossentropy', optimizer='adam', metrics=['accuracy'])\n",
    "    # fit network\n",
    "    model.fit(trainX, trainy, epochs=epochs, batch_size=batch_size, verbose=verbose)\n",
    "    # evaluate model\n",
    "    _, accuracy = model.evaluate(testX, testy, batch_size=batch_size, verbose=1)\n",
    "    return accuracy,model\n",
    "\n",
    "# fit and evaluate a model\n",
    "def evaluate_model_lstm(trainX, trainy, testX, testy):\n",
    "    verbose, epochs, batch_size = 1, 15, 64\n",
    "    n_timesteps, n_features, n_outputs = trainX.shape[1], trainX.shape[2], trainy.shape[1]\n",
    "    model = Sequential()\n",
    "    model.add(LSTM(100, input_shape=(n_timesteps,n_features)))\n",
    "    model.add(Dropout(0.5))\n",
    "    model.add(Dense(100, activation='relu'))\n",
    "    model.add(Dense(n_outputs, activation='softmax'))\n",
    "    model.compile(loss='categorical_crossentropy', optimizer='adam', metrics=['accuracy'])\n",
    "    # fit network\n",
    "    model.fit(trainX, trainy, epochs=epochs, batch_size=batch_size, verbose=verbose)\n",
    "    # evaluate model\n",
    "    _, accuracy = model.evaluate(testX, testy, batch_size=batch_size, verbose=verbose)\n",
    "    return accuracy,model\n"
   ]
  },
  {
   "cell_type": "code",
   "execution_count": 59,
   "metadata": {},
   "outputs": [
    {
     "name": "stdout",
     "output_type": "stream",
     "text": [
      "Epoch 1/10\n",
      "18158/18158 [==============================] - 17s 927us/step - loss: 0.8432 - acc: 0.7321\n",
      "Epoch 2/10\n",
      "18158/18158 [==============================] - 15s 845us/step - loss: 0.6400 - acc: 0.7935\n",
      "Epoch 3/10\n",
      "18158/18158 [==============================] - 14s 764us/step - loss: 0.5415 - acc: 0.8158\n",
      "Epoch 4/10\n",
      "18158/18158 [==============================] - 13s 738us/step - loss: 0.4742 - acc: 0.8368\n",
      "Epoch 5/10\n",
      "18158/18158 [==============================] - 14s 749us/step - loss: 0.4124 - acc: 0.8549\n",
      "Epoch 6/10\n",
      "18158/18158 [==============================] - 13s 725us/step - loss: 0.3732 - acc: 0.8683\n",
      "Epoch 7/10\n",
      "18158/18158 [==============================] - 13s 743us/step - loss: 0.3283 - acc: 0.8830\n",
      "Epoch 8/10\n",
      "18158/18158 [==============================] - 13s 721us/step - loss: 0.2984 - acc: 0.8906\n",
      "Epoch 9/10\n",
      "18158/18158 [==============================] - 15s 836us/step - loss: 0.2979 - acc: 0.8972\n",
      "Epoch 10/10\n",
      "18158/18158 [==============================] - 15s 831us/step - loss: 0.2558 - acc: 0.9073\n",
      "2809/2809 [==============================] - 1s 348us/step\n"
     ]
    }
   ],
   "source": [
    "score_cnn,model_cnn = evaluate_model_cnn(trainX, trainy, valX, valy)"
   ]
  },
  {
   "cell_type": "code",
   "execution_count": 60,
   "metadata": {},
   "outputs": [
    {
     "name": "stdout",
     "output_type": "stream",
     "text": [
      "Epoch 1/15\n",
      "18158/18158 [==============================] - 105s 6ms/step - loss: 1.2691 - acc: 0.5699\n",
      "Epoch 2/15\n",
      "18158/18158 [==============================] - 108s 6ms/step - loss: 1.0470 - acc: 0.6624\n",
      "Epoch 3/15\n",
      "18158/18158 [==============================] - 110s 6ms/step - loss: 1.0141 - acc: 0.6750\n",
      "Epoch 4/15\n",
      "18158/18158 [==============================] - 103s 6ms/step - loss: 0.9780 - acc: 0.6728\n",
      "Epoch 5/15\n",
      "18158/18158 [==============================] - 101s 6ms/step - loss: 0.9613 - acc: 0.6875\n",
      "Epoch 6/15\n",
      "18158/18158 [==============================] - 100s 6ms/step - loss: 0.9211 - acc: 0.7048\n",
      "Epoch 7/15\n",
      "18158/18158 [==============================] - 100s 6ms/step - loss: 0.8945 - acc: 0.7118\n",
      "Epoch 8/15\n",
      "18158/18158 [==============================] - 100s 6ms/step - loss: 0.8577 - acc: 0.7282\n",
      "Epoch 9/15\n",
      "18158/18158 [==============================] - 100s 6ms/step - loss: 0.9169 - acc: 0.7033\n",
      "Epoch 10/15\n",
      "18158/18158 [==============================] - 101s 6ms/step - loss: 0.8738 - acc: 0.7222\n",
      "Epoch 11/15\n",
      "18158/18158 [==============================] - 102s 6ms/step - loss: 0.8847 - acc: 0.7157\n",
      "Epoch 12/15\n",
      "18158/18158 [==============================] - 107s 6ms/step - loss: 0.8987 - acc: 0.7065\n",
      "Epoch 13/15\n",
      "18158/18158 [==============================] - 105s 6ms/step - loss: 0.9241 - acc: 0.7014\n",
      "Epoch 14/15\n",
      "18158/18158 [==============================] - 103s 6ms/step - loss: 0.9710 - acc: 0.6770\n",
      "Epoch 15/15\n",
      "18158/18158 [==============================] - 100s 6ms/step - loss: 0.9522 - acc: 0.6828\n",
      "2809/2809 [==============================] - 6s 2ms/step\n"
     ]
    }
   ],
   "source": [
    "score_lstm,model_lstm = evaluate_model_lstm(trainX, trainy, valX, valy)"
   ]
  },
  {
   "cell_type": "code",
   "execution_count": 64,
   "metadata": {},
   "outputs": [],
   "source": [
    "y_pred_cnn = model_cnn.predict(testX)\n",
    "y_pred_lstm = model_lstm.predict(testX)"
   ]
  },
  {
   "cell_type": "code",
   "execution_count": 65,
   "metadata": {},
   "outputs": [
    {
     "name": "stdout",
     "output_type": "stream",
     "text": [
      "CNN model score: 0.45674617300735076\n",
      "LSTM model score: 0.5033819864879685\n"
     ]
    }
   ],
   "source": [
    "print('CNN model score:',score_cnn)\n",
    "print('LSTM model score:',score_lstm)"
   ]
  },
  {
   "cell_type": "code",
   "execution_count": 67,
   "metadata": {},
   "outputs": [
    {
     "name": "stdout",
     "output_type": "stream",
     "text": [
      "(3681,)\n",
      "(3681,)\n"
     ]
    }
   ],
   "source": [
    "y_pred_cnn_argmax = np.argmax(y_pred_cnn, axis=1)+1 #recover off set\n",
    "print(y_pred_cnn_argmax.shape)\n",
    "y_pred_lstm_argmax = np.argmax(y_pred_lstm, axis=1)+1 #recover off set\n",
    "print(y_pred_lstm_argmax.shape)"
   ]
  },
  {
   "cell_type": "code",
   "execution_count": 68,
   "metadata": {},
   "outputs": [
    {
     "data": {
      "text/plain": [
       "array([1, 1, 1, ..., 7, 7, 7])"
      ]
     },
     "execution_count": 68,
     "metadata": {},
     "output_type": "execute_result"
    }
   ],
   "source": [
    "y_test = np.argmax(testy,axis=1)+1\n",
    "y_test"
   ]
  },
  {
   "cell_type": "code",
   "execution_count": 69,
   "metadata": {},
   "outputs": [
    {
     "data": {
      "text/plain": [
       "array([1, 1, 1, ..., 7, 7, 7])"
      ]
     },
     "execution_count": 69,
     "metadata": {},
     "output_type": "execute_result"
    }
   ],
   "source": [
    "y_pred_cnn_argmax"
   ]
  },
  {
   "cell_type": "code",
   "execution_count": 70,
   "metadata": {},
   "outputs": [
    {
     "data": {
      "text/plain": [
       "array([1, 1, 1, ..., 7, 7, 7])"
      ]
     },
     "execution_count": 70,
     "metadata": {},
     "output_type": "execute_result"
    }
   ],
   "source": [
    "y_pred_lstm_argmax"
   ]
  },
  {
   "cell_type": "code",
   "execution_count": 71,
   "metadata": {},
   "outputs": [
    {
     "data": {
      "text/html": [
       "<div>\n",
       "<style scoped>\n",
       "    .dataframe tbody tr th:only-of-type {\n",
       "        vertical-align: middle;\n",
       "    }\n",
       "\n",
       "    .dataframe tbody tr th {\n",
       "        vertical-align: top;\n",
       "    }\n",
       "\n",
       "    .dataframe thead th {\n",
       "        text-align: right;\n",
       "    }\n",
       "</style>\n",
       "<table border=\"1\" class=\"dataframe\">\n",
       "  <thead>\n",
       "    <tr style=\"text-align: right;\">\n",
       "      <th>Predicted</th>\n",
       "      <th>1</th>\n",
       "      <th>2</th>\n",
       "      <th>3</th>\n",
       "      <th>4</th>\n",
       "      <th>5</th>\n",
       "      <th>6</th>\n",
       "      <th>7</th>\n",
       "      <th>All</th>\n",
       "    </tr>\n",
       "    <tr>\n",
       "      <th>True</th>\n",
       "      <th></th>\n",
       "      <th></th>\n",
       "      <th></th>\n",
       "      <th></th>\n",
       "      <th></th>\n",
       "      <th></th>\n",
       "      <th></th>\n",
       "      <th></th>\n",
       "    </tr>\n",
       "  </thead>\n",
       "  <tbody>\n",
       "    <tr>\n",
       "      <th>1</th>\n",
       "      <td>169</td>\n",
       "      <td>20</td>\n",
       "      <td>338</td>\n",
       "      <td>5</td>\n",
       "      <td>3</td>\n",
       "      <td>38</td>\n",
       "      <td>999</td>\n",
       "      <td>1572</td>\n",
       "    </tr>\n",
       "    <tr>\n",
       "      <th>2</th>\n",
       "      <td>20</td>\n",
       "      <td>1</td>\n",
       "      <td>3</td>\n",
       "      <td>2</td>\n",
       "      <td>1</td>\n",
       "      <td>18</td>\n",
       "      <td>43</td>\n",
       "      <td>88</td>\n",
       "    </tr>\n",
       "    <tr>\n",
       "      <th>3</th>\n",
       "      <td>12</td>\n",
       "      <td>10</td>\n",
       "      <td>47</td>\n",
       "      <td>79</td>\n",
       "      <td>8</td>\n",
       "      <td>9</td>\n",
       "      <td>205</td>\n",
       "      <td>370</td>\n",
       "    </tr>\n",
       "    <tr>\n",
       "      <th>4</th>\n",
       "      <td>10</td>\n",
       "      <td>6</td>\n",
       "      <td>48</td>\n",
       "      <td>685</td>\n",
       "      <td>11</td>\n",
       "      <td>4</td>\n",
       "      <td>63</td>\n",
       "      <td>827</td>\n",
       "    </tr>\n",
       "    <tr>\n",
       "      <th>5</th>\n",
       "      <td>1</td>\n",
       "      <td>4</td>\n",
       "      <td>7</td>\n",
       "      <td>67</td>\n",
       "      <td>8</td>\n",
       "      <td>7</td>\n",
       "      <td>38</td>\n",
       "      <td>132</td>\n",
       "    </tr>\n",
       "    <tr>\n",
       "      <th>6</th>\n",
       "      <td>3</td>\n",
       "      <td>2</td>\n",
       "      <td>9</td>\n",
       "      <td>17</td>\n",
       "      <td>3</td>\n",
       "      <td>0</td>\n",
       "      <td>14</td>\n",
       "      <td>48</td>\n",
       "    </tr>\n",
       "    <tr>\n",
       "      <th>7</th>\n",
       "      <td>62</td>\n",
       "      <td>4</td>\n",
       "      <td>46</td>\n",
       "      <td>53</td>\n",
       "      <td>14</td>\n",
       "      <td>5</td>\n",
       "      <td>460</td>\n",
       "      <td>644</td>\n",
       "    </tr>\n",
       "    <tr>\n",
       "      <th>All</th>\n",
       "      <td>277</td>\n",
       "      <td>47</td>\n",
       "      <td>498</td>\n",
       "      <td>908</td>\n",
       "      <td>48</td>\n",
       "      <td>81</td>\n",
       "      <td>1822</td>\n",
       "      <td>3681</td>\n",
       "    </tr>\n",
       "  </tbody>\n",
       "</table>\n",
       "</div>"
      ],
      "text/plain": [
       "Predicted    1   2    3    4   5   6     7   All\n",
       "True                                            \n",
       "1          169  20  338    5   3  38   999  1572\n",
       "2           20   1    3    2   1  18    43    88\n",
       "3           12  10   47   79   8   9   205   370\n",
       "4           10   6   48  685  11   4    63   827\n",
       "5            1   4    7   67   8   7    38   132\n",
       "6            3   2    9   17   3   0    14    48\n",
       "7           62   4   46   53  14   5   460   644\n",
       "All        277  47  498  908  48  81  1822  3681"
      ]
     },
     "execution_count": 71,
     "metadata": {},
     "output_type": "execute_result"
    }
   ],
   "source": [
    "crosstab = pd.crosstab(y_test, y_pred_cnn_argmax,\n",
    "                          rownames=['True'], colnames=['Predicted'],\n",
    "                          margins=True)\n",
    "crosstab"
   ]
  },
  {
   "cell_type": "code",
   "execution_count": 72,
   "metadata": {},
   "outputs": [
    {
     "data": {
      "text/html": [
       "<div>\n",
       "<style scoped>\n",
       "    .dataframe tbody tr th:only-of-type {\n",
       "        vertical-align: middle;\n",
       "    }\n",
       "\n",
       "    .dataframe tbody tr th {\n",
       "        vertical-align: top;\n",
       "    }\n",
       "\n",
       "    .dataframe thead th {\n",
       "        text-align: right;\n",
       "    }\n",
       "</style>\n",
       "<table border=\"1\" class=\"dataframe\">\n",
       "  <thead>\n",
       "    <tr style=\"text-align: right;\">\n",
       "      <th>Predicted</th>\n",
       "      <th>1</th>\n",
       "      <th>2</th>\n",
       "      <th>3</th>\n",
       "      <th>4</th>\n",
       "      <th>5</th>\n",
       "      <th>7</th>\n",
       "      <th>All</th>\n",
       "    </tr>\n",
       "    <tr>\n",
       "      <th>True</th>\n",
       "      <th></th>\n",
       "      <th></th>\n",
       "      <th></th>\n",
       "      <th></th>\n",
       "      <th></th>\n",
       "      <th></th>\n",
       "      <th></th>\n",
       "    </tr>\n",
       "  </thead>\n",
       "  <tbody>\n",
       "    <tr>\n",
       "      <th>1</th>\n",
       "      <td>339</td>\n",
       "      <td>1</td>\n",
       "      <td>0</td>\n",
       "      <td>13</td>\n",
       "      <td>0</td>\n",
       "      <td>1219</td>\n",
       "      <td>1572</td>\n",
       "    </tr>\n",
       "    <tr>\n",
       "      <th>2</th>\n",
       "      <td>35</td>\n",
       "      <td>0</td>\n",
       "      <td>0</td>\n",
       "      <td>2</td>\n",
       "      <td>0</td>\n",
       "      <td>51</td>\n",
       "      <td>88</td>\n",
       "    </tr>\n",
       "    <tr>\n",
       "      <th>3</th>\n",
       "      <td>40</td>\n",
       "      <td>0</td>\n",
       "      <td>0</td>\n",
       "      <td>108</td>\n",
       "      <td>1</td>\n",
       "      <td>221</td>\n",
       "      <td>370</td>\n",
       "    </tr>\n",
       "    <tr>\n",
       "      <th>4</th>\n",
       "      <td>17</td>\n",
       "      <td>0</td>\n",
       "      <td>0</td>\n",
       "      <td>752</td>\n",
       "      <td>0</td>\n",
       "      <td>58</td>\n",
       "      <td>827</td>\n",
       "    </tr>\n",
       "    <tr>\n",
       "      <th>5</th>\n",
       "      <td>1</td>\n",
       "      <td>0</td>\n",
       "      <td>0</td>\n",
       "      <td>95</td>\n",
       "      <td>0</td>\n",
       "      <td>36</td>\n",
       "      <td>132</td>\n",
       "    </tr>\n",
       "    <tr>\n",
       "      <th>6</th>\n",
       "      <td>3</td>\n",
       "      <td>0</td>\n",
       "      <td>0</td>\n",
       "      <td>22</td>\n",
       "      <td>0</td>\n",
       "      <td>23</td>\n",
       "      <td>48</td>\n",
       "    </tr>\n",
       "    <tr>\n",
       "      <th>7</th>\n",
       "      <td>31</td>\n",
       "      <td>0</td>\n",
       "      <td>1</td>\n",
       "      <td>77</td>\n",
       "      <td>0</td>\n",
       "      <td>535</td>\n",
       "      <td>644</td>\n",
       "    </tr>\n",
       "    <tr>\n",
       "      <th>All</th>\n",
       "      <td>466</td>\n",
       "      <td>1</td>\n",
       "      <td>1</td>\n",
       "      <td>1069</td>\n",
       "      <td>1</td>\n",
       "      <td>2143</td>\n",
       "      <td>3681</td>\n",
       "    </tr>\n",
       "  </tbody>\n",
       "</table>\n",
       "</div>"
      ],
      "text/plain": [
       "Predicted    1  2  3     4  5     7   All\n",
       "True                                     \n",
       "1          339  1  0    13  0  1219  1572\n",
       "2           35  0  0     2  0    51    88\n",
       "3           40  0  0   108  1   221   370\n",
       "4           17  0  0   752  0    58   827\n",
       "5            1  0  0    95  0    36   132\n",
       "6            3  0  0    22  0    23    48\n",
       "7           31  0  1    77  0   535   644\n",
       "All        466  1  1  1069  1  2143  3681"
      ]
     },
     "execution_count": 72,
     "metadata": {},
     "output_type": "execute_result"
    }
   ],
   "source": [
    "crosstab = pd.crosstab(y_test, y_pred_lstm_argmax,\n",
    "                          rownames=['True'], colnames=['Predicted'],\n",
    "                          margins=True)\n",
    "crosstab"
   ]
  },
  {
   "cell_type": "code",
   "execution_count": 73,
   "metadata": {},
   "outputs": [
    {
     "data": {
      "text/plain": [
       "[Text(0, 0.5, 'Working at Computer'),\n",
       " Text(0, 1.5, 'Standing Up, Walking and Going Up/Down stairs'),\n",
       " Text(0, 2.5, 'Standing'),\n",
       " Text(0, 3.5, 'Walking'),\n",
       " Text(0, 4.5, 'Going Up/Down Stairs'),\n",
       " Text(0, 5.5, 'Walking and Talking with Someone'),\n",
       " Text(0, 6.5, 'Talking while Standing')]"
      ]
     },
     "execution_count": 73,
     "metadata": {},
     "output_type": "execute_result"
    },
    {
     "data": {
      "image/png": "[encoded data removed]",
      "text/plain": [
       "<Figure size 792x576 with 2 Axes>"
      ]
     },
     "metadata": {
      "needs_background": "light"
     },
     "output_type": "display_data"
    }
   ],
   "source": [
    "from sklearn.metrics import confusion_matrix\n",
    "\n",
    "# Compute confusion matrix\n",
    "cnf_matrix = confusion_matrix(y_test, y_pred_cnn_argmax)\n",
    "\n",
    "class_names = [class_dict[i] for i in range(1,8)]\n",
    "\n",
    "import seaborn as sns\n",
    "ax = sns.heatmap(cnf_matrix,annot=True,fmt=\"d\")\n",
    "ax.figure.set_size_inches(11,8)\n",
    "# ax.set_xticklabels(class_names,rotation=45)\n",
    "ax.set_yticklabels(class_names,rotation='horizontal')\n"
   ]
  },
  {
   "cell_type": "code",
   "execution_count": 74,
   "metadata": {},
   "outputs": [
    {
     "data": {
      "text/plain": [
       "[Text(0, 0.5, 'Working at Computer'),\n",
       " Text(0, 1.5, 'Standing Up, Walking and Going Up/Down stairs'),\n",
       " Text(0, 2.5, 'Standing'),\n",
       " Text(0, 3.5, 'Walking'),\n",
       " Text(0, 4.5, 'Going Up/Down Stairs'),\n",
       " Text(0, 5.5, 'Walking and Talking with Someone'),\n",
       " Text(0, 6.5, 'Talking while Standing')]"
      ]
     },
     "execution_count": 74,
     "metadata": {},
     "output_type": "execute_result"
    },
    {
     "data": {
      "image/png": "[encoded data removed]",
      "text/plain": [
       "<Figure size 792x576 with 2 Axes>"
      ]
     },
     "metadata": {
      "needs_background": "light"
     },
     "output_type": "display_data"
    }
   ],
   "source": [
    "# Compute confusion matrix\n",
    "cnf_matrix = confusion_matrix(y_test, y_pred_lstm_argmax)\n",
    "\n",
    "class_names = [class_dict[i] for i in range(1,8)]\n",
    "\n",
    "import seaborn as sns\n",
    "ax = sns.heatmap(cnf_matrix,annot=True,fmt=\"d\")\n",
    "ax.figure.set_size_inches(11,8)\n",
    "# ax.set_xticklabels(class_names,rotation=45)\n",
    "ax.set_yticklabels(class_names,rotation='horizontal')\n"
   ]
  }
 ],
 "metadata": {
  "kernelspec": {
   "display_name": "Python [conda env:activity_recognition]",
   "language": "python",
   "name": "conda-env-activity_recognition-py"
  },
  "language_info": {
   "codemirror_mode": {
    "name": "ipython",
    "version": 3
   },
   "file_extension": ".py",
   "mimetype": "text/x-python",
   "name": "python",
   "nbconvert_exporter": "python",
   "pygments_lexer": "ipython3",
   "version": "3.6.7"
  }
 },
 "nbformat": 4,
 "nbformat_minor": 2
}
